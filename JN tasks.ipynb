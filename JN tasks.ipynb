{
 "cells": [
  {
   "cell_type": "markdown",
   "id": "8f3370f4-011b-4ceb-81d5-dbf93031f8be",
   "metadata": {},
   "source": [
    "Ex2\n",
    "Jupyter Notebook tasks"
   ]
  },
  {
   "cell_type": "markdown",
   "id": "b374c342-72a0-4d33-9ffa-d0fcdad2cf13",
   "metadata": {},
   "source": [
    "Ex3\n",
    "I will do some tasks on Jupyter Notebook"
   ]
  },
  {
   "cell_type": "markdown",
   "id": "94712cbd-a0aa-4597-8cac-22a8d84a8897",
   "metadata": {},
   "source": [
    "Ex4\n",
    "Data science languages: \n",
    "R\n",
    "Python\n",
    "Scala\n",
    "SQL\n",
    "Java\n",
    "C++\n",
    "Julia\n",
    "JavaScript\n",
    "PHP\n",
    "Go\n",
    "Ruby\n",
    "Visual Basic"
   ]
  },
  {
   "cell_type": "markdown",
   "id": "1c2f00d1-45b0-454d-83aa-ee1a7c0f21f6",
   "metadata": {},
   "source": [
    "Ex5\n",
    "Data science libraries: \n",
    "Pandas\n",
    "NumPy\n",
    "SciPy\n",
    "Matplotlib\n",
    "Seaborn\n",
    "Scikit-learn\n",
    "Keras"
   ]
  },
  {
   "cell_type": "markdown",
   "id": "d6f0c449-193c-4ef3-914f-096c9d5bf2f6",
   "metadata": {},
   "source": [
    "| Category | Tool / Library | Primary Purpose | Key Example |\n",
    "| :---: | :--- | :--- | :---: |\n",
    "| **Languages** | Python | General-purpose programming, ML, AI | `df.head()` |\n",
    "| **Languages** | R | Statistical computing and graphics | `ggplot()` |\n",
    "| **Languages** | SQL | Database querying and management | `SELECT *` |\n",
    "| **Libraries** | **Pandas** | Data manipulation and analysis (DataFrames) | `df['col'].mean()` |\n",
    "| **Libraries** | **NumPy** | Numerical computing (Arrays and Matrices) | `np.array([1, 2, 3])` |\n",
    "| **ML/DL** | Scikit-learn | Classic Machine Learning algorithms | `model.fit()` |\n",
    "| **ML/DL** | TensorFlow | Deep Learning framework | `tf.keras.Model` |\n",
    "| **Visualization** | Matplotlib / Seaborn | Creating charts and plots | `plt.plot()` |\n",
    "| **Big Data** | Apache Spark | Large-scale, distributed data processing | `SparkSession` |\n",
    "| **Environment** | Jupyter Notebook | Interactive computing and documentation | Code Cells |\n",
    "| **Version Control** | GitHub | Source code management and collaboration | `git commit` |"
   ]
  },
  {
   "cell_type": "markdown",
   "id": "c57dc810-c47d-497f-960f-e453afc644ab",
   "metadata": {},
   "source": [
    "Addition (+): Simply calculates the sum of two numbers. For example, the expression 5 + 3 results in 8.\n",
    "Subtraction (-): Determines the difference between two numbers. For instance, 10 - 4 yields 6.\n",
    "Multiplication (*): Calculates the product of two numbers. The expression 6 * 7 evaluates to 42.\n",
    "True Division (/): Performs standard division, always returning a floating-point number (a number with a decimal). The expression 20 / 8 results in 2.5.\n",
    "Floor Division (//): Calculates the quotient and rounds the result down to the nearest whole number (integer). The expression 20 // 8 results in 2.\n",
    "Modulus (%): This operator calculates the remainder after integer division. For example, $17 \\div 5$ equals 3 with a remainder of 2, so the expression 17 % 5 results in 2.\n",
    "Exponentiation (**): Raises the first operand (the base) to the power of the second operand (the exponent). The expression 2 ** 4 calculates $2^4$, which equals 16."
   ]
  },
  {
   "cell_type": "code",
   "execution_count": 4,
   "id": "01470ede-5f82-442a-a6da-2917adcb6a31",
   "metadata": {},
   "outputs": [
    {
     "name": "stdout",
     "output_type": "stream",
     "text": [
      "(5 * 4) + 10 = 30\n"
     ]
    }
   ],
   "source": [
    "#Ex8\n",
    "def multiply_and_add(a, b, c):\n",
    "  \"\"\"\n",
    "  Multiplies two numbers (a and b) and then adds a third number (c) to the result.\n",
    "  \"\"\"\n",
    "  result = (a * b) + c\n",
    "  return result\n",
    "\n",
    "# Example usage:\n",
    "num1 = 5\n",
    "num2 = 4\n",
    "num3 = 10\n",
    "\n",
    "final_result = multiply_and_add(num1, num2, num3)\n",
    "\n",
    "print(f\"({num1} * {num2}) + {num3} = {final_result}\")"
   ]
  },
  {
   "cell_type": "code",
   "execution_count": 5,
   "id": "3d406bc8-d6a2-44de-bcf2-f0cda73c53f6",
   "metadata": {},
   "outputs": [
    {
     "name": "stdout",
     "output_type": "stream",
     "text": [
      "90 minutes is equal to 1.5 hours.\n",
      "180 minutes is equal to 3.0 hours.\n"
     ]
    }
   ],
   "source": [
    "#Ex9\n",
    "def minutes_to_hours(minutes):\n",
    "  \"\"\"\n",
    "  Converts a given number of minutes into hours.\n",
    "  \n",
    "  Args:\n",
    "    minutes (float or int): The total number of minutes to convert.\n",
    "    \n",
    "  Returns:\n",
    "    float: The equivalent time in hours.\n",
    "  \"\"\"\n",
    "  # There are 60 minutes in 1 hour\n",
    "  hours = minutes / 60\n",
    "  return hours\n",
    "\n",
    "# --- Example Usage ---\n",
    "\n",
    "# Example 1: Convert 90 minutes\n",
    "minutes_input_1 = 90\n",
    "hours_output_1 = minutes_to_hours(minutes_input_1)\n",
    "print(f\"{minutes_input_1} minutes is equal to {hours_output_1} hours.\")\n",
    "\n",
    "# Example 2: Convert 180 minutes\n",
    "minutes_input_2 = 180\n",
    "hours_output_2 = minutes_to_hours(minutes_input_2)\n",
    "print(f\"{minutes_input_2} minutes is equal to {hours_output_2} hours.\")"
   ]
  },
  {
   "cell_type": "markdown",
   "id": "ff045573-ab15-4bef-b558-4f3ab80fb009",
   "metadata": {},
   "source": [
    "After completing this lab, you should be able to:\n",
    "\n",
    "* Identify key **Data Science Languages** and **Libraries**.\n",
    "* Understand basic **Arithmetic Operations** in Python.\n",
    "* Perform simple **data conversions** (e.g., minutes to hours) using code.\n",
    "* Use **Markdown cells** effectively to structure and document your work."
   ]
  },
  {
   "cell_type": "markdown",
   "id": "9a065e81-6e30-4552-9590-5bc2b315cc54",
   "metadata": {},
   "source": [
    "Author's name: Tran Minh Hieu"
   ]
  }
 ],
 "metadata": {
  "kernelspec": {
   "display_name": "Python 3 (ipykernel)",
   "language": "python",
   "name": "python3"
  },
  "language_info": {
   "codemirror_mode": {
    "name": "ipython",
    "version": 3
   },
   "file_extension": ".py",
   "mimetype": "text/x-python",
   "name": "python",
   "nbconvert_exporter": "python",
   "pygments_lexer": "ipython3",
   "version": "3.14.0"
  }
 },
 "nbformat": 4,
 "nbformat_minor": 5
}
